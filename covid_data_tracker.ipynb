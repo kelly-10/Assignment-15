import pandas as pd
import matplotlib.pyplot as plt
import seaborn as sns
import plotly.express as px

# Load dataset
df = pd.read_csv('owid-covid-data.csv')

# Preview
df.head()
df.info()
df.isnull().sum()
# Convert date column
df['date'] = pd.to_datetime(df['date'])

# Filter countries
countries = ['Kenya', 'USA', 'India']
df_filtered = df[df['location'].isin(countries)]

# Drop rows with missing critical values
df_filtered.dropna(subset=['total_cases', 'total_deaths'], inplace=True)

# Fill missing values
df_filtered.fillna(0, inplace=True)

# Total cases over time
plt.figure(figsize=(10,6))
for country in countries:
    data = df_filtered[df_filtered['location'] == country]
    plt.plot(data['date'], data['total_cases'], label=country)
plt.title("Total COVID-19 Cases Over Time")
plt.xlabel("Date")
plt.ylabel("Total Cases")
plt.legend()
plt.grid(True)
plt.show()

# Cumulative vaccinations
plt.figure(figsize=(10,6))
for country in countries:
    data = df_filtered[df_filtered['location'] == country]
    plt.plot(data['date'], data['total_vaccinations'], label=country)
plt.title("Total Vaccinations Over Time")
plt.xlabel("Date")
plt.ylabel("Total Vaccinations")
plt.legend()
plt.grid(True)
plt.show()

# Latest snapshot
latest = df[df['date'] == df['date'].max()]
fig = px.choropleth(latest, locations='iso_code', color='total_cases',
                    hover_name='location', title='Global COVID-19 Total Cases')
fig.show()
